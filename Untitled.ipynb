{
 "cells": [
  {
   "cell_type": "code",
   "execution_count": 1,
   "metadata": {},
   "outputs": [],
   "source": [
    "from sklearn import datasets\n",
    "import numpy as np\n",
    "import matplotlib.pyplot as plt"
   ]
  },
  {
   "cell_type": "code",
   "execution_count": 2,
   "metadata": {},
   "outputs": [
    {
     "data": {
      "text/plain": [
       "(303, 4)"
      ]
     },
     "execution_count": 2,
     "metadata": {},
     "output_type": "execute_result"
    }
   ],
   "source": [
    "import pandas as pd\n",
    "df = pd.read_csv('heart.csv')\n",
    "x = df[['age', 'sex', 'trestbps', 'chol']].values\n",
    "y = df[['target']].values\n",
    "x.shape"
   ]
  },
  {
   "cell_type": "code",
   "execution_count": 3,
   "metadata": {},
   "outputs": [],
   "source": [
    "def sigmoid(x):\n",
    "    return (1/(1-np.exp(-x))).astype('float32')\n",
    "def relu(x):\n",
    "    return np.maximum(x,0)\n",
    "def CrossEntropy(y, y_h):\n",
    "    if y == 1:\n",
    "      return -np.log(y_h)\n",
    "    else:\n",
    "      return -np.log(1 - y_h)\n",
    "def sig_derivative(x):\n",
    "    return sigmoid(x)*(1-sigmoid(x))"
   ]
  },
  {
   "cell_type": "code",
   "execution_count": 16,
   "metadata": {},
   "outputs": [],
   "source": [
    "class layers:\n",
    "\n",
    "    def __init__(self):\n",
    "        self.weight_list = np.array([])\n",
    "        self.input_dim = 0\n",
    "        self.output_dim = 0\n",
    "        self.activation = ''\n",
    "        self.bias_list = np.array([])\n",
    "    \n",
    "    def compute(self, x):\n",
    "        if(self.activation == 'relu'):\n",
    "            return relu(np.dot(x, self.weight_list) + self.bias_list)\n",
    "        elif(self.activation == 'sigmoid'):\n",
    "            return sigmoid(np.dot(x, self.weight_list) + self.bias_list)\n",
    "        \n",
    "class neural_network:\n",
    "        \n",
    "    layer_list = []\n",
    "    \n",
    "    def __init__(self):\n",
    "        pass\n",
    "    \n",
    "    def add_layer(self, units, input_dim, activation='relu'):\n",
    "        layer = layers()\n",
    "        layer.input_dim = input_dim\n",
    "        layer.output_dim = units\n",
    "        layer.activation = activation \n",
    "        layer.weight_list = np.random.rand(input_dim, units)\n",
    "        layer.bias_list = np.random.rand(1, units)\n",
    "        self.layer_list.append(layer)\n",
    "    \n",
    "    def forward_propagate(self, x):\n",
    "        input = x\n",
    "        for layer in self.layer_list:\n",
    "            input = layer.compute(input)\n",
    "        print(input.shape)\n",
    "    "
   ]
  },
  {
   "cell_type": "code",
   "execution_count": 17,
   "metadata": {},
   "outputs": [
    {
     "name": "stdout",
     "output_type": "stream",
     "text": [
      "(303, 1)\n"
     ]
    }
   ],
   "source": [
    "model = neural_network()\n",
    "model.add_layer(3, 4, 'relu')\n",
    "model.add_layer(4, 3, 'relu')\n",
    "model.add_layer(1, 4, 'sigmoid')\n",
    "model.forward_propagate(x)"
   ]
  }
 ],
 "metadata": {
  "kernelspec": {
   "display_name": "Python 3",
   "language": "python",
   "name": "python3"
  },
  "language_info": {
   "codemirror_mode": {
    "name": "ipython",
    "version": 3
   },
   "file_extension": ".py",
   "mimetype": "text/x-python",
   "name": "python",
   "nbconvert_exporter": "python",
   "pygments_lexer": "ipython3",
   "version": "3.7.3"
  }
 },
 "nbformat": 4,
 "nbformat_minor": 2
}
